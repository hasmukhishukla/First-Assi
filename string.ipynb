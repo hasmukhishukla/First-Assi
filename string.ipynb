{
 "cells": [
  {
   "cell_type": "code",
   "execution_count": 37,
   "metadata": {},
   "outputs": [],
   "source": [
    "#Write a code to reverse a string\n",
    "a=input()\n",
    "a=a[::-1]\n",
    "print(a)\n"
   ]
  },
  {
   "cell_type": "code",
   "execution_count": null,
   "metadata": {},
   "outputs": [
    {
     "name": "stdout",
     "output_type": "stream",
     "text": [
      "7\n"
     ]
    }
   ],
   "source": [
    "# Write 'a code to count the number of vowel in 'string'\n",
    "vowel=['a','e','i','o','u']\n",
    "a=input()\n",
    "count=0\n",
    "for i in range(len(a)):\n",
    "    if a[i]in vowel:\n",
    "        count+=1\n",
    "print(count)"
   ]
  },
  {
   "cell_type": "code",
   "execution_count": null,
   "metadata": {},
   "outputs": [
    {
     "name": "stdout",
     "output_type": "stream",
     "text": [
      "ankit is not a palindrome string\n"
     ]
    }
   ],
   "source": [
    "#Write a code to check if a given string is a palindrome or not\n",
    "a=input()\n",
    "b=a[::-1]\n",
    "if a == b:\n",
    "    print(a +\" \"+\"is a palindrome string\")\n",
    "else:\n",
    "    print(a +\" \" +\"is not a palindrome string\")"
   ]
  },
  {
   "cell_type": "code",
   "execution_count": null,
   "metadata": {},
   "outputs": [
    {
     "name": "stdout",
     "output_type": "stream",
     "text": [
      "yes the two words are anagrams of each other\n"
     ]
    }
   ],
   "source": [
    "#Write a code to check if two given strings are anagrams of each other\n",
    "a=input()\n",
    "b=input()\n",
    "a=sorted(a)\n",
    "b=sorted(b)\n",
    "if a==b:\n",
    "    print(f\"yes the two words {a} and  {b} are anagrams of each other\")\n",
    "else:\n",
    "    print(f\"No the two words {a} and {b} are anagrams of each other\")"
   ]
  },
  {
   "cell_type": "code",
   "execution_count": null,
   "metadata": {},
   "outputs": [
    {
     "name": "stdout",
     "output_type": "stream",
     "text": [
      "The number of times the a occure in ankit kumar gautam 4 and the places where it occure[0, 9, 13, 16]\n"
     ]
    }
   ],
   "source": [
    "#Write a code to find all occurrences of a given substring within another string\n",
    "string=input()\n",
    "sub_string=input()\n",
    "s_len=len(sub_string)\n",
    "occurrences=[]\n",
    "for i in range(len(string)):\n",
    "    if(sub_string[0]==string[i]):\n",
    "        c_string=string[i:i+s_len]\n",
    "        if c_string==sub_string:\n",
    "            occurrences.append(i)\n",
    "print(f\"The number of times the {sub_string} occure in {string} {len(occurrences)} and the places where it occure{occurrences}\")"
   ]
  },
  {
   "cell_type": "code",
   "execution_count": null,
   "metadata": {},
   "outputs": [
    {
     "name": "stdout",
     "output_type": "stream",
     "text": [
      "a1n1k1i1t1\n"
     ]
    }
   ],
   "source": [
    "#Write a code to perform basic string compression using the counts of repeated characters\n",
    "a=input()\n",
    "sorted(a)\n",
    "count=1\n",
    "compe=''\n",
    "for i in range(len(a)):\n",
    "  if i< len(a)-1 and a[i]==a[i+1]:\n",
    "    count+=1\n",
    "    print(len(a))\n",
    "  else:\n",
    "    compe +=a[i]+str(count)\n",
    "    count=1\n",
    "print(compe)"
   ]
  },
  {
   "cell_type": "code",
   "execution_count": null,
   "metadata": {},
   "outputs": [
    {
     "name": "stdout",
     "output_type": "stream",
     "text": [
      "ankit has all unique values\n"
     ]
    }
   ],
   "source": [
    "#Write a code to determine if a string has all unique characters\n",
    "def unique(s):\n",
    "    sorted(s)\n",
    "    unique=True\n",
    "    for i in range(len(s)):\n",
    "        if i < len(s)-1 and s[i]==s[i+1]:\n",
    "            unique=False\n",
    "            break\n",
    "    return unique\n",
    "a=input()\n",
    "unique=unique(a)\n",
    "if unique==True:\n",
    "    print(f\"{a} has all unique values\")\n",
    "else:\n",
    "    print(f\"{a} soesnot have unique values\")"
   ]
  },
  {
   "cell_type": "code",
   "execution_count": null,
   "metadata": {},
   "outputs": [
    {
     "name": "stdout",
     "output_type": "stream",
     "text": [
      "ankir\n"
     ]
    }
   ],
   "source": [
    "#Write a code to convert a given string to uppercase or lowercase\n",
    "str1=input()\n",
    "case_sel=input(\"You want to convert you string into upper case or lowere case /n for upper case 'U' /nand for lower case 'L'\")\n",
    "if case_sel =='l':\n",
    "    print(str1.lower())\n",
    "else:\n",
    "    print(str1.upper())\n"
   ]
  },
  {
   "cell_type": "code",
   "execution_count": null,
   "metadata": {},
   "outputs": [
    {
     "name": "stdout",
     "output_type": "stream",
     "text": [
      "Total number of wordes are 1 and totel numner or alphabet are 1\n"
     ]
    }
   ],
   "source": [
    "#Write a code to count the number of words in a string\n",
    "str1=input()\n",
    "W_count=1\n",
    "A_count=0\n",
    "uniquew=True\n",
    "for i in str1:\n",
    "    if i!=' ':\n",
    "        A_count+=1\n",
    "for i in str1:\n",
    "    if i==' ':\n",
    "        W_count+=1\n",
    "print(f\"Total number of wordes are {W_count} and totel numner or alphabet are {A_count}\")"
   ]
  },
  {
   "cell_type": "code",
   "execution_count": null,
   "metadata": {},
   "outputs": [
    {
     "name": "stdout",
     "output_type": "stream",
     "text": [
      "The concatenated value of two string is ankit kumar gautam\n"
     ]
    }
   ],
   "source": [
    "#Write a code to concatenate two strings without using the + operator\n",
    "st1=input()\n",
    "str2=input()\n",
    "conc=f\"{st1.strip()} {str2.strip()}\"\n",
    "print(f\"The concatenated value of two string is {conc}\")"
   ]
  },
  {
   "cell_type": "code",
   "execution_count": null,
   "metadata": {},
   "outputs": [
    {
     "name": "stdout",
     "output_type": "stream",
     "text": [
      "['1', '22', '3', '4', '2']\n",
      "['1', '22', '3', '4']\n"
     ]
    }
   ],
   "source": [
    "#Write a code to remove all occurrences of a specific element from a list\n",
    "def remover(list,element):\n",
    "    while element in list:\n",
    "        list.remove(element)\n",
    "    return list\n",
    "a=int(input())\n",
    "list=[]\n",
    "for i in range(a):\n",
    "    list.append(input())\n",
    "b=input()\n",
    "print(list)\n",
    "list=remover(list,b)\n",
    "print(list)"
   ]
  },
  {
   "cell_type": "code",
   "execution_count": null,
   "metadata": {},
   "outputs": [
    {
     "name": "stdout",
     "output_type": "stream",
     "text": [
      "['1', '2', '31', '1', '2']\n",
      "2nd lasrgest number of the list is 2\n"
     ]
    }
   ],
   "source": [
    "#Implement a code to find the second largest number in a given list of integer\n",
    "def largest(num):\n",
    "    num.remove(max(num))\n",
    "    return num\n",
    "a=int(input())\n",
    "list=[]\n",
    "for i in range(a):\n",
    "    list.append(input())\n",
    "print(list)    \n",
    "list =largest(list)\n",
    "print(\"2nd lasrgest number of the list is \" + max(list))"
   ]
  },
  {
   "cell_type": "code",
   "execution_count": null,
   "metadata": {},
   "outputs": [
    {
     "name": "stdout",
     "output_type": "stream",
     "text": [
      "['3', '2', '1']\n"
     ]
    }
   ],
   "source": [
    "#Write a code to reverse a list in-place without using any built-in reverse functions\n",
    "def list_builder(list,a):\n",
    "    for i in range(a):\n",
    "        list.append(input())\n",
    "    return list\n",
    "a=int(input())\n",
    "list=[]\n",
    "list=list_builder(list,a)\n",
    "list=list[::-1]\n",
    "print(list)"
   ]
  },
  {
   "cell_type": "code",
   "execution_count": 16,
   "metadata": {},
   "outputs": [
    {
     "name": "stdout",
     "output_type": "stream",
     "text": [
      "['1', '', '2', '2', '3']\n",
      "{'', '1', '3', '2'}\n"
     ]
    }
   ],
   "source": [
    "#Implement a code to find and remove duplicates from a list while preserving the original order of elements\n",
    "def remove_duplicates_preserve_order(input_list):\n",
    "    unique_elements = set()\n",
    "    result = []\n",
    "    for item in input_list:\n",
    "        if item not in unique_elements:\n",
    "            result.append(item)\n",
    "            unique_elements.add(item)\n",
    "    return result\n",
    "input_list = [1, 2, 3, 2, 4, 5, 1, 6, 3]\n",
    "result_list = remove_duplicates_preserve_order(input_list)\n",
    "print(\"List with duplicates removed:\", result_list)\n",
    "\n"
   ]
  },
  {
   "cell_type": "code",
   "execution_count": 20,
   "metadata": {},
   "outputs": [
    {
     "name": "stdout",
     "output_type": "stream",
     "text": [
      "[1, 3, 2, 3, 5]\n",
      "False\n",
      "list is not sorted\n"
     ]
    }
   ],
   "source": [
    "#Create a code to check if a given list is sorted\n",
    "def sorting(list):\n",
    "    test_list=list.copy()\n",
    "    test_list=sorted(test_list)\n",
    "    reversed_sort=reversed(test_list)\n",
    "    if list == reversed_sort or list == test_list:\n",
    "        return True\n",
    "    else:\n",
    "        return False\n",
    "list1=[1,3,2,3,5,]\n",
    "b=sorting(list)\n",
    "print(list)\n",
    "print(b)\n",
    "if b == True:\n",
    "    print(\"list is sorted\")\n",
    "else:\n",
    "    print(\"list is not sorted\")"
   ]
  },
  {
   "cell_type": "code",
   "execution_count": 5,
   "metadata": {},
   "outputs": [
    {
     "data": {
      "text/plain": [
       "[1, 2, 3, 3, 4, 5]"
      ]
     },
     "execution_count": 5,
     "metadata": {},
     "output_type": "execute_result"
    }
   ],
   "source": [
    "#Write a code to merge two sorted lists into a single sorted list\n",
    "list1=[1,2,3,]\n",
    "list2=[5,4,3]\n",
    "list3=list1+list2\n",
    "sorted(list3)\n"
   ]
  },
  {
   "cell_type": "code",
   "execution_count": 12,
   "metadata": {},
   "outputs": [
    {
     "name": "stdout",
     "output_type": "stream",
     "text": [
      "[7]\n"
     ]
    }
   ],
   "source": [
    "#Implement a code to find the intersection of two given lists\n",
    "list1=[1,2,3,4,5,6,7,]\n",
    "list2=[7,8,9,0]\n",
    "list3=list(set(list1) & set(list2))\n",
    "print(list3)        "
   ]
  },
  {
   "cell_type": "code",
   "execution_count": 11,
   "metadata": {},
   "outputs": [
    {
     "name": "stdout",
     "output_type": "stream",
     "text": [
      "[1, 2, 3, 4, 5, 6, 7, 8, 9, 10]\n"
     ]
    }
   ],
   "source": [
    "#Create a code to find the union of two lists without duplicates\n",
    "list1=[1,2,3,4,5,6,]\n",
    "list2=[1,2,3,4,5,6,7,8,9,10,]\n",
    "list3=list(set(list1) | set(list2))\n",
    "print(list3)"
   ]
  },
  {
   "cell_type": "code",
   "execution_count": 2,
   "metadata": {},
   "outputs": [
    {
     "name": "stdout",
     "output_type": "stream",
     "text": [
      "[1, 1, 1, 1, 1, 1]\n"
     ]
    }
   ],
   "source": [
    "#Write a code to shuffle a given list randomly without using any built-in shuffle functions\n",
    "import random\n",
    "list1=[1,2,3,4,5,6,]\n",
    "for i in range(len(list1)):\n",
    "    new=random.choice(list1)\n",
    "print(list1)"
   ]
  },
  {
   "cell_type": "code",
   "execution_count": 20,
   "metadata": {},
   "outputs": [
    {
     "name": "stdout",
     "output_type": "stream",
     "text": [
      "('3',)\n"
     ]
    }
   ],
   "source": [
    "#Write a code that takes two tuples as input and returns a new tuple containing elements that are common to both input tuples\n",
    "def tupel_input(tup):\n",
    "    elements=input(\"enter element for please give a sepave between the elemesns eg 1 2 =(1,2)\")\n",
    "    tup=tuple(elements.split(\" \"))\n",
    "    return tup\n",
    "tupel_1=()\n",
    "tupel_2=()\n",
    "tupel_1=tupel_input(tupel_1)\n",
    "tupel_2=tupel_input(tupel_2)\n",
    "tupel_3=tuple(set(tupel_1)&set(tupel_2))\n",
    "print(tupel_3)"
   ]
  },
  {
   "cell_type": "code",
   "execution_count": 36,
   "metadata": {},
   "outputs": [
    {
     "name": "stdout",
     "output_type": "stream",
     "text": [
      "{'2'}\n"
     ]
    }
   ],
   "source": [
    "# Create a code that prompts the user to enter two sets of integers separated by commas. Then, print the intersection of these two sets\n",
    "def set_elemnt():\n",
    "    elements=input(\"enter the elements but seperate them u','\")\n",
    "    set=elements.split(\",\")\n",
    "    return set\n",
    "set1=set(set_elemnt())\n",
    "set2=set(set_elemnt())\n",
    "set3=set1&set2\n",
    "print(set3)\n"
   ]
  },
  {
   "cell_type": "code",
   "execution_count": 44,
   "metadata": {},
   "outputs": [
    {
     "name": "stdout",
     "output_type": "stream",
     "text": [
      "{'4', '1', '3', '2', '5'}\n"
     ]
    }
   ],
   "source": [
    "#Write a code to concatenate two tuples. The function should take two tuples as input and return a new tuple containing elements from both input tuples.\n",
    "def union_tupel():\n",
    "    element1=input(\"enter elements\")\n",
    "    set1=element1.split(\" \")\n",
    "    element2=input(\"enter elements\")\n",
    "    set2=element2.split(\" \")\n",
    "    return set1+set2\n",
    "uni=set(union_tupel())\n",
    "uni.remove(\"\")\n",
    "print(uni)\n",
    "\n"
   ]
  },
  {
   "cell_type": "code",
   "execution_count": 47,
   "metadata": {},
   "outputs": [
    {
     "name": "stdout",
     "output_type": "stream",
     "text": [
      "elements that are present in firse set but not in secound are{'2', '1'}\n"
     ]
    }
   ],
   "source": [
    "# Develop a code that prompts the user to input two sets of strings. Then, print the elements that are present in the first set but not in the second se\n",
    "def input_set():\n",
    "    element1=input(\"Enter firset set elements\")\n",
    "    set1=set(element1.split())\n",
    "    element2=input(\"Enter 2nd set Elemnts\")\n",
    "    set2=set(element2.split())\n",
    "    return set1 - set2\n",
    "elements=input_set()\n",
    "print(f\"elements that are present in firse set but not in secound are{elements}\")"
   ]
  },
  {
   "cell_type": "code",
   "execution_count": 51,
   "metadata": {},
   "outputs": [
    {
     "name": "stdout",
     "output_type": "stream",
     "text": [
      "['2', '3', '4', '5']\n"
     ]
    }
   ],
   "source": [
    "# Create a code that takes a tuple and two integers as input. The function should return a new tuple containing elements from the original tuple within the specified range of indices\n",
    "def tupel_inpput():\n",
    "    elements=input(\"Enter values separated by spaces: \").split()\n",
    "    return elements\n",
    "def tuple_ret(tup,a,b):\n",
    "    tupl=tup[a:b]\n",
    "    return tupl\n",
    "int_1=int(input())\n",
    "int_2=int(input())\n",
    "tupel_1=tupel_inpput()\n",
    "final_tupel=tuple_ret(tupel_1,int_1,int_2)\n",
    "print(final_tupel)"
   ]
  },
  {
   "cell_type": "code",
   "execution_count": 24,
   "metadata": {},
   "outputs": [],
   "source": [
    "# Write a code that prompts the user to input two sets of characters. Then, print the union of these two sets\n",
    "def set_inpput():\n",
    "    char1=input(\"Enter values separated by spaces: \").split()\n",
    "    char2=input(\"Enter values separated by spaces: \").split()\n",
    "    return set(char1)|set(char2)\n",
    "charre = set_inpput()\n",
    "print(charre)"
   ]
  },
  {
   "cell_type": "code",
   "execution_count": 56,
   "metadata": {},
   "outputs": [
    {
     "name": "stdout",
     "output_type": "stream",
     "text": [
      "4\n"
     ]
    }
   ],
   "source": [
    "# Develop a code that takes a tuple of integers as input. The function should return the maximum and minimum values from the tuple using tuple unpacking\n",
    "def set_inpput():\n",
    "    int_1=input(\"Enter values separated by spaces: \").split()\n",
    "    return tuple(map(int, int_1))\n",
    "tupel_1 = set_inpput()\n",
    "print(max(tupel_1),min(tupel_1))"
   ]
  },
  {
   "cell_type": "code",
   "execution_count": 58,
   "metadata": {},
   "outputs": [
    {
     "name": "stdout",
     "output_type": "stream",
     "text": [
      "union, intersection, and difference of these two sets are {'2', '4', '1', '3'} {'2', '3'} {'1'}\n"
     ]
    }
   ],
   "source": [
    "# Create a code that defines two sets of integers. Then, print the union, intersection, and difference of these two sets\n",
    "def set_inpput():\n",
    "    char1=input(\"Enter values separated by spaces: \").split()\n",
    "    return set(char1)\n",
    "char1 = set(set_inpput())\n",
    "char2=set(set_inpput())\n",
    "union= char1 | char2\n",
    "intersec=char1 & char2\n",
    "diff=char1-char2\n",
    "print(f\"union, intersection, and difference of these two sets are {union} {intersec} {diff}\")"
   ]
  },
  {
   "cell_type": "code",
   "execution_count": 72,
   "metadata": {},
   "outputs": [
    {
     "name": "stdout",
     "output_type": "stream",
     "text": [
      "('1', '23', '2', '2', '3', '3', '32', '2', '3', '2')\n",
      "4\n"
     ]
    }
   ],
   "source": [
    "# Write a code that takes a tuple and an element as input. The function should return the count of occurrences of the given element in the tuple\n",
    "def set_inpput():\n",
    "    char1=input(\"Enter values separated by spaces: \").split()\n",
    "    return tuple(char1)\n",
    "def count(char,element):\n",
    "    count=0\n",
    "    for i in char:\n",
    "        if i == element:\n",
    "            count+=1\n",
    "    print(count)\n",
    "char1 = tuple(set_inpput())\n",
    "elements= input()\n",
    "print(char1)\n",
    "count(char1,elements)\n"
   ]
  },
  {
   "cell_type": "code",
   "execution_count": 74,
   "metadata": {},
   "outputs": [
    {
     "name": "stdout",
     "output_type": "stream",
     "text": [
      "['1', '2', '5', '6', '7']\n"
     ]
    }
   ],
   "source": [
    "# Develop a code that prompts the user to input two sets of strings. Then, print the symmetric difference of these two sets\n",
    "def set_inpput():\n",
    "    char1=input(\"Enter values separated by spaces: \").split()\n",
    "    return set(map(str, char1))\n",
    "char1 = set(set_inpput())\n",
    "char2=set(set_inpput())\n",
    "sym_diff=(char1-char2)|(char2-char1)\n",
    "print(sorted(sym_diff))"
   ]
  },
  {
   "cell_type": "code",
   "execution_count": 16,
   "metadata": {},
   "outputs": [
    {
     "name": "stdout",
     "output_type": "stream",
     "text": [
      "{'abc': 3, 'ccd': 2, 'fsd': 1, 'dse': 1}\n"
     ]
    }
   ],
   "source": [
    "# Write a code that takes a list of words as input and returns a dictionary where the keys are unique words and the values are the frequencies of those words in the input list\n",
    "def freq_word_dict(words):\n",
    "    word_freq={}\n",
    "    for word in words:\n",
    "        if word  in word_freq:\n",
    "            word_freq[word] +=1\n",
    "        else:\n",
    "            word_freq[word]=1\n",
    "    return word_freq\n",
    "word_list=input().split()\n",
    "dict_1=freq_word_dict(word_list)\n",
    "print(dict_1)"
   ]
  },
  {
   "cell_type": "code",
   "execution_count": 19,
   "metadata": {},
   "outputs": [
    {
     "name": "stdout",
     "output_type": "stream",
     "text": [
      "{'a': '20', 'b': '30'}\n"
     ]
    }
   ],
   "source": [
    "# Write a code that takes two dictionaries as input and merges them into a single dictionary. \n",
    "# If there are common keys, the values should be added together\n",
    "def dict_int():\n",
    "    dic={}\n",
    "    elements=input(\"Enter the key key\")\n",
    "    pairs=elements.split()\n",
    "    for pair in pairs:\n",
    "        key,value = pair.split(':')\n",
    "        dic[key.strip()]=value.strip()\n",
    "    return dic\n",
    "def merg_dict(dict1,dict2):\n",
    "    merg_dic= dict1.copy()\n",
    "    for key, value in dict2.items():\n",
    "        if key in merg_dic:\n",
    "            merg_dic[key]+=value\n",
    "        else:\n",
    "            merg_dic[key]=value\n",
    "    return merg_dic\n",
    "dict1=dict_int()\n",
    "dict2=dict_int()\n",
    "merg_dic=merg_dict(dict1, dict2)\n",
    "print(merg_dic)\n"
   ]
  },
  {
   "cell_type": "code",
   "execution_count": 31,
   "metadata": {},
   "outputs": [],
   "source": [
    "# Write a code to access a value in a nested dictionary. \n",
    "# The function should take the dictionary and a list of keys as input, and return the corresponding value. \n",
    "# If any of the keys do not exist in the dictionary, the function should return None\n",
    "def get_nested_value(dictionary, keys):\n",
    "    result = dictionary\n",
    "    for key in keys:\n",
    "        if key in result:\n",
    "            result = result[key]\n",
    "        else:\n",
    "            return None\n",
    "    return result\n",
    "\n",
    "nested_dict = {\n",
    "    \"a\": {\n",
    "        \"b\": {\n",
    "            \"c\": 1,\n",
    "            \"d\": 2\n",
    "        },\n",
    "        \"e\": {\n",
    "            \"f\": 3,\n",
    "            \"g\": 4\n",
    "        }\n",
    "    }\n",
    "}\n",
    "\n",
    "keys_to_search = [\"a\", \"b\", \"c\"]\n",
    "value = get_nested_value(nested_dict, keys_to_search)\n",
    "print(\"Value corresponding to keys\", keys_to_search, \":\", value)\n",
    "\n",
    "keys_to_search = [\"a\", \"e\", \"h\"]\n",
    "value = get_nested_value(nested_dict, keys_to_search)\n",
    "print(\"Value corresponding to keys\", keys_to_search, \":\", value)"
   ]
  },
  {
   "cell_type": "code",
   "execution_count": 32,
   "metadata": {},
   "outputs": [],
   "source": [
    "# Write a code that takes a dictionary as input and returns a sorted version of it based on the values. \n",
    "# You can choose whether to sort in ascending or descending order\n",
    "def sort_dict_by_value(dictionary, reverse=True):\n",
    "    return dict(sorted(dictionary.items(), key=lambda item: item[1], reverse=reverse))\n",
    "input_dict = {\"a\": 10, \"b\": 5, \"c\": 20, \"d\": 15}\n",
    "sorted_dict = sort_dict_by_value(input_dict)\n",
    "print(\"Sorted dictionary (descending order):\", sorted_dict)"
   ]
  },
  {
   "cell_type": "code",
   "execution_count": null,
   "metadata": {},
   "outputs": [],
   "source": [
    "# Write a code that inverts a dictionary, swapping keys and values. \n",
    "# Ensure that the inverted dictionary correctly handles cases where multiple keys have the same value by storing the keys as a list in the inverted dictionary.\n",
    "def invert_dict(dictionary):\n",
    "    inverted_dict = {}\n",
    "    for key, value in dictionary.items():\n",
    "        if value in inverted_dict:\n",
    "            inverted_dict[value].append(key)\n",
    "        else:\n",
    "            inverted_dict[value] = [key]\n",
    "    return inverted_dict\n",
    "input_dict = {\"a\": 1, \"b\": 2, \"c\": 1, \"d\": 3, \"e\": 2}\n",
    "inverted_dict = invert_dict(input_dict)\n",
    "print(\"Inverted dictionary:\", inverted_dict)"
   ]
  }
 ],
 "metadata": {
  "kernelspec": {
   "display_name": "Python 3",
   "language": "python",
   "name": "python3"
  },
  "language_info": {
   "codemirror_mode": {
    "name": "ipython",
    "version": 3
   },
   "file_extension": ".py",
   "mimetype": "text/x-python",
   "name": "python",
   "nbconvert_exporter": "python",
   "pygments_lexer": "ipython3",
   "version": "3.11.9"
  }
 },
 "nbformat": 4,
 "nbformat_minor": 2
}
